{
 "cells": [
  {
   "cell_type": "code",
   "execution_count": 1,
   "metadata": {},
   "outputs": [
    {
     "data": {
      "text/html": [
       "<script>requirejs.config({paths: { 'plotly': ['https://cdn.plot.ly/plotly-latest.min']},});if(!window.Plotly) {{require(['plotly'],function(plotly) {window.Plotly=plotly;});}}</script>"
      ],
      "text/vnd.plotly.v1+html": [
       "<script>requirejs.config({paths: { 'plotly': ['https://cdn.plot.ly/plotly-latest.min']},});if(!window.Plotly) {{require(['plotly'],function(plotly) {window.Plotly=plotly;});}}</script>"
      ]
     },
     "metadata": {},
     "output_type": "display_data"
    }
   ],
   "source": [
    "import plotly\n",
    "from plotly.offline import iplot, init_notebook_mode\n",
    "init_notebook_mode(connected=True)"
   ]
  },
  {
   "cell_type": "code",
   "execution_count": 2,
   "metadata": {},
   "outputs": [
    {
     "data": {
      "application/vnd.plotly.v1+json": {
       "data": [
        {
         "type": "scatter",
         "uid": "08353fc2-aebe-11e8-8a70-086d41e3715a"
        }
       ],
       "layout": {}
      },
      "text/html": [
       "<div id=\"2b80e2f0-db44-4ee5-ae55-f033b6bc8460\" style=\"height: 525px; width: 100%;\" class=\"plotly-graph-div\"></div><script type=\"text/javascript\">require([\"plotly\"], function(Plotly) { window.PLOTLYENV=window.PLOTLYENV || {};window.PLOTLYENV.BASE_URL=\"https://plot.ly\";Plotly.newPlot(\"2b80e2f0-db44-4ee5-ae55-f033b6bc8460\", [{\"type\": \"scatter\", \"uid\": \"0a3afa46-aebe-11e8-aeb8-086d41e3715a\"}], {}, {\"showLink\": true, \"linkText\": \"Export to plot.ly\"})});</script>"
      ],
      "text/vnd.plotly.v1+html": [
       "<div id=\"2b80e2f0-db44-4ee5-ae55-f033b6bc8460\" style=\"height: 525px; width: 100%;\" class=\"plotly-graph-div\"></div><script type=\"text/javascript\">require([\"plotly\"], function(Plotly) { window.PLOTLYENV=window.PLOTLYENV || {};window.PLOTLYENV.BASE_URL=\"https://plot.ly\";Plotly.newPlot(\"2b80e2f0-db44-4ee5-ae55-f033b6bc8460\", [{\"type\": \"scatter\", \"uid\": \"0a3afa46-aebe-11e8-aeb8-086d41e3715a\"}], {}, {\"showLink\": true, \"linkText\": \"Export to plot.ly\"})});</script>"
      ]
     },
     "metadata": {},
     "output_type": "display_data"
    }
   ],
   "source": [
    "plotly.offline.iplot([{}])"
   ]
  },
  {
   "cell_type": "code",
   "execution_count": 3,
   "metadata": {},
   "outputs": [
    {
     "data": {
      "application/vnd.plotly.v1+json": {
       "data": [
        {
         "type": "scatter",
         "uid": "0a40de28-aebe-11e8-ba11-086d41e3715a",
         "x": [
          1,
          2,
          3,
          4
         ],
         "y": [
          1,
          2,
          3,
          4
         ]
        }
       ],
       "layout": {}
      },
      "text/html": [
       "<div id=\"ceea21c2-e40b-4f7e-aef5-669d12d521ef\" style=\"height: 525px; width: 100%;\" class=\"plotly-graph-div\"></div><script type=\"text/javascript\">require([\"plotly\"], function(Plotly) { window.PLOTLYENV=window.PLOTLYENV || {};window.PLOTLYENV.BASE_URL=\"https://plot.ly\";Plotly.newPlot(\"ceea21c2-e40b-4f7e-aef5-669d12d521ef\", [{\"x\": [1, 2, 3, 4], \"y\": [1, 2, 3, 4], \"type\": \"scatter\", \"uid\": \"0a45d63a-aebe-11e8-898f-086d41e3715a\"}], {}, {\"showLink\": true, \"linkText\": \"Export to plot.ly\"})});</script>"
      ],
      "text/vnd.plotly.v1+html": [
       "<div id=\"ceea21c2-e40b-4f7e-aef5-669d12d521ef\" style=\"height: 525px; width: 100%;\" class=\"plotly-graph-div\"></div><script type=\"text/javascript\">require([\"plotly\"], function(Plotly) { window.PLOTLYENV=window.PLOTLYENV || {};window.PLOTLYENV.BASE_URL=\"https://plot.ly\";Plotly.newPlot(\"ceea21c2-e40b-4f7e-aef5-669d12d521ef\", [{\"x\": [1, 2, 3, 4], \"y\": [1, 2, 3, 4], \"type\": \"scatter\", \"uid\": \"0a45d63a-aebe-11e8-898f-086d41e3715a\"}], {}, {\"showLink\": true, \"linkText\": \"Export to plot.ly\"})});</script>"
      ]
     },
     "metadata": {},
     "output_type": "display_data"
    }
   ],
   "source": [
    "trace = {'x': [1, 2, 3, 4], 'y': [1, 2, 3, 4]}\n",
    "\n",
    "plotly.offline.iplot([\n",
    "    trace\n",
    "])"
   ]
  },
  {
   "cell_type": "code",
   "execution_count": 4,
   "metadata": {},
   "outputs": [
    {
     "data": {
      "application/vnd.plotly.v1+json": {
       "data": [
        {
         "marker": {
          "color": "rgba(255, 182, 193, .9)"
         },
         "mode": "markers",
         "type": "scatter",
         "uid": "0a4d65e6-aebe-11e8-88fb-086d41e3715a",
         "x": [
          1,
          2,
          3,
          4
         ],
         "y": [
          1,
          2,
          3,
          4
         ]
        }
       ],
       "layout": {}
      },
      "text/html": [
       "<div id=\"4a1837cd-32f9-4526-a0e2-e9e066cb44c9\" style=\"height: 525px; width: 100%;\" class=\"plotly-graph-div\"></div><script type=\"text/javascript\">require([\"plotly\"], function(Plotly) { window.PLOTLYENV=window.PLOTLYENV || {};window.PLOTLYENV.BASE_URL=\"https://plot.ly\";Plotly.newPlot(\"4a1837cd-32f9-4526-a0e2-e9e066cb44c9\", [{\"marker\": {\"color\": \"rgba(255, 182, 193, .9)\"}, \"mode\": \"markers\", \"x\": [1, 2, 3, 4], \"y\": [1, 2, 3, 4], \"type\": \"scatter\", \"uid\": \"0a51ee74-aebe-11e8-a6ed-086d41e3715a\"}], {}, {\"showLink\": true, \"linkText\": \"Export to plot.ly\"})});</script>"
      ],
      "text/vnd.plotly.v1+html": [
       "<div id=\"4a1837cd-32f9-4526-a0e2-e9e066cb44c9\" style=\"height: 525px; width: 100%;\" class=\"plotly-graph-div\"></div><script type=\"text/javascript\">require([\"plotly\"], function(Plotly) { window.PLOTLYENV=window.PLOTLYENV || {};window.PLOTLYENV.BASE_URL=\"https://plot.ly\";Plotly.newPlot(\"4a1837cd-32f9-4526-a0e2-e9e066cb44c9\", [{\"marker\": {\"color\": \"rgba(255, 182, 193, .9)\"}, \"mode\": \"markers\", \"x\": [1, 2, 3, 4], \"y\": [1, 2, 3, 4], \"type\": \"scatter\", \"uid\": \"0a51ee74-aebe-11e8-a6ed-086d41e3715a\"}], {}, {\"showLink\": true, \"linkText\": \"Export to plot.ly\"})});</script>"
      ]
     },
     "metadata": {},
     "output_type": "display_data"
    }
   ],
   "source": [
    "trace = {'x': [1, 2, 3, 4], 'y': [1, 2, 3, 4], 'mode': 'markers', 'marker': {'color': 'rgba(255, 182, 193, .9)'}}\n",
    "\n",
    "plotly.offline.iplot([\n",
    "    trace\n",
    "])"
   ]
  },
  {
   "cell_type": "code",
   "execution_count": 5,
   "metadata": {},
   "outputs": [
    {
     "data": {
      "application/vnd.plotly.v1+json": {
       "data": [
        {
         "marker": {
          "color": "rgba(255, 182, 193, .9)"
         },
         "mode": "markers",
         "name": "Some dots",
         "type": "scatter",
         "uid": "0a5b66dc-aebe-11e8-806c-086d41e3715a",
         "x": [
          1,
          2,
          3,
          4
         ],
         "y": [
          1,
          2,
          3,
          4
         ]
        },
        {
         "marker": {
          "color": "blue"
         },
         "name": "Our nice line",
         "type": "scatter",
         "uid": "0a5b68e4-aebe-11e8-90f5-086d41e3715a",
         "x": [
          1.5,
          2.5,
          3.5,
          4.5
         ],
         "y": [
          3,
          5,
          7,
          9
         ]
        }
       ],
       "layout": {}
      },
      "text/html": [
       "<div id=\"992b664e-6b82-469c-8494-8d2e166e0499\" style=\"height: 525px; width: 100%;\" class=\"plotly-graph-div\"></div><script type=\"text/javascript\">require([\"plotly\"], function(Plotly) { window.PLOTLYENV=window.PLOTLYENV || {};window.PLOTLYENV.BASE_URL=\"https://plot.ly\";Plotly.newPlot(\"992b664e-6b82-469c-8494-8d2e166e0499\", [{\"marker\": {\"color\": \"rgba(255, 182, 193, .9)\"}, \"mode\": \"markers\", \"name\": \"Some dots\", \"x\": [1, 2, 3, 4], \"y\": [1, 2, 3, 4], \"type\": \"scatter\", \"uid\": \"0a62c3e6-aebe-11e8-9dea-086d41e3715a\"}, {\"marker\": {\"color\": \"blue\"}, \"name\": \"Our nice line\", \"x\": [1.5, 2.5, 3.5, 4.5], \"y\": [3, 5, 7, 9], \"type\": \"scatter\", \"uid\": \"0a62c5ee-aebe-11e8-a3bd-086d41e3715a\"}], {}, {\"showLink\": true, \"linkText\": \"Export to plot.ly\"})});</script>"
      ],
      "text/vnd.plotly.v1+html": [
       "<div id=\"992b664e-6b82-469c-8494-8d2e166e0499\" style=\"height: 525px; width: 100%;\" class=\"plotly-graph-div\"></div><script type=\"text/javascript\">require([\"plotly\"], function(Plotly) { window.PLOTLYENV=window.PLOTLYENV || {};window.PLOTLYENV.BASE_URL=\"https://plot.ly\";Plotly.newPlot(\"992b664e-6b82-469c-8494-8d2e166e0499\", [{\"marker\": {\"color\": \"rgba(255, 182, 193, .9)\"}, \"mode\": \"markers\", \"name\": \"Some dots\", \"x\": [1, 2, 3, 4], \"y\": [1, 2, 3, 4], \"type\": \"scatter\", \"uid\": \"0a62c3e6-aebe-11e8-9dea-086d41e3715a\"}, {\"marker\": {\"color\": \"blue\"}, \"name\": \"Our nice line\", \"x\": [1.5, 2.5, 3.5, 4.5], \"y\": [3, 5, 7, 9], \"type\": \"scatter\", \"uid\": \"0a62c5ee-aebe-11e8-a3bd-086d41e3715a\"}], {}, {\"showLink\": true, \"linkText\": \"Export to plot.ly\"})});</script>"
      ]
     },
     "metadata": {},
     "output_type": "display_data"
    }
   ],
   "source": [
    "trace0 = {'x': [1, 2, 3, 4], 'y': [1, 2, 3, 4], \n",
    "          'mode': 'markers', 'marker': {'color': 'rgba(255, 182, 193, .9)'}, \n",
    "          'name': 'Some dots'}\n",
    "trace1 = {'x': [1.5, 2.5, 3.5, 4.5], 'y': [3, 5, 7, 9], \n",
    "          'marker': {'color': 'blue'},\n",
    "          'name': 'Our nice line'}\n",
    "plotly.offline.iplot([trace0, trace1])"
   ]
  },
  {
   "cell_type": "code",
   "execution_count": 6,
   "metadata": {},
   "outputs": [
    {
     "data": {
      "application/vnd.plotly.v1+json": {
       "data": [
        {
         "marker": {
          "color": "blue"
         },
         "name": "Our nice bar trace",
         "type": "bar",
         "uid": "0ae529ba-aebe-11e8-aee1-086d41e3715a",
         "x": [
          "bobby",
          "susan",
          "eli",
          "malcolm"
         ],
         "y": [
          3,
          5,
          7,
          9
         ]
        }
       ],
       "layout": {}
      },
      "text/html": [
       "<div id=\"c3739cf7-1883-4d23-9edf-00b19df89819\" style=\"height: 525px; width: 100%;\" class=\"plotly-graph-div\"></div><script type=\"text/javascript\">require([\"plotly\"], function(Plotly) { window.PLOTLYENV=window.PLOTLYENV || {};window.PLOTLYENV.BASE_URL=\"https://plot.ly\";Plotly.newPlot(\"c3739cf7-1883-4d23-9edf-00b19df89819\", [{\"marker\": {\"color\": \"blue\"}, \"name\": \"Our nice bar trace\", \"x\": [\"bobby\", \"susan\", \"eli\", \"malcolm\"], \"y\": [3, 5, 7, 9], \"type\": \"bar\", \"uid\": \"0ae96dd8-aebe-11e8-99f5-086d41e3715a\"}], {}, {\"showLink\": true, \"linkText\": \"Export to plot.ly\"})});</script>"
      ],
      "text/vnd.plotly.v1+html": [
       "<div id=\"c3739cf7-1883-4d23-9edf-00b19df89819\" style=\"height: 525px; width: 100%;\" class=\"plotly-graph-div\"></div><script type=\"text/javascript\">require([\"plotly\"], function(Plotly) { window.PLOTLYENV=window.PLOTLYENV || {};window.PLOTLYENV.BASE_URL=\"https://plot.ly\";Plotly.newPlot(\"c3739cf7-1883-4d23-9edf-00b19df89819\", [{\"marker\": {\"color\": \"blue\"}, \"name\": \"Our nice bar trace\", \"x\": [\"bobby\", \"susan\", \"eli\", \"malcolm\"], \"y\": [3, 5, 7, 9], \"type\": \"bar\", \"uid\": \"0ae96dd8-aebe-11e8-99f5-086d41e3715a\"}], {}, {\"showLink\": true, \"linkText\": \"Export to plot.ly\"})});</script>"
      ]
     },
     "metadata": {},
     "output_type": "display_data"
    }
   ],
   "source": [
    "bar_trace = {'type': 'bar', 'x': ['bobby', 'susan', 'eli', 'malcolm'], 'y': [3, 5, 7, 9], 'marker': {'color': 'blue'}, 'name': 'Our nice bar trace'}\n",
    "\n",
    "plotly.offline.iplot([bar_trace])"
   ]
  },
  {
   "cell_type": "code",
   "execution_count": 7,
   "metadata": {},
   "outputs": [
    {
     "data": {
      "text/plain": [
       "Bar({\n",
       "    'x': ['bobby', 'susan', 'eli', 'malcolm'], 'y': [3, 5, 7, 9]\n",
       "})"
      ]
     },
     "execution_count": 7,
     "metadata": {},
     "output_type": "execute_result"
    }
   ],
   "source": [
    "from plotly import graph_objs \n",
    "\n",
    "bar_trace_via_constructor = graph_objs.Bar(x=['bobby', 'susan', 'eli', 'malcolm'], y=[3, 5, 7, 9])\n",
    "bar_trace_via_constructor"
   ]
  },
  {
   "cell_type": "code",
   "execution_count": 8,
   "metadata": {},
   "outputs": [
    {
     "data": {
      "application/vnd.plotly.v1+json": {
       "data": [
        {
         "type": "bar",
         "uid": "0af50670-aebe-11e8-880c-086d41e3715a",
         "x": [
          "bobby",
          "susan",
          "eli",
          "malcolm"
         ],
         "y": [
          3,
          5,
          7,
          9
         ]
        }
       ],
       "layout": {}
      },
      "text/html": [
       "<div id=\"1fe577a9-c7ac-49d3-a0d2-54dde13aace7\" style=\"height: 525px; width: 100%;\" class=\"plotly-graph-div\"></div><script type=\"text/javascript\">require([\"plotly\"], function(Plotly) { window.PLOTLYENV=window.PLOTLYENV || {};window.PLOTLYENV.BASE_URL=\"https://plot.ly\";Plotly.newPlot(\"1fe577a9-c7ac-49d3-a0d2-54dde13aace7\", [{\"x\": [\"bobby\", \"susan\", \"eli\", \"malcolm\"], \"y\": [3, 5, 7, 9], \"type\": \"bar\", \"uid\": \"0afa56de-aebe-11e8-b0c3-086d41e3715a\"}], {}, {\"showLink\": true, \"linkText\": \"Export to plot.ly\"})});</script>"
      ],
      "text/vnd.plotly.v1+html": [
       "<div id=\"1fe577a9-c7ac-49d3-a0d2-54dde13aace7\" style=\"height: 525px; width: 100%;\" class=\"plotly-graph-div\"></div><script type=\"text/javascript\">require([\"plotly\"], function(Plotly) { window.PLOTLYENV=window.PLOTLYENV || {};window.PLOTLYENV.BASE_URL=\"https://plot.ly\";Plotly.newPlot(\"1fe577a9-c7ac-49d3-a0d2-54dde13aace7\", [{\"x\": [\"bobby\", \"susan\", \"eli\", \"malcolm\"], \"y\": [3, 5, 7, 9], \"type\": \"bar\", \"uid\": \"0afa56de-aebe-11e8-b0c3-086d41e3715a\"}], {}, {\"showLink\": true, \"linkText\": \"Export to plot.ly\"})});</script>"
      ]
     },
     "metadata": {},
     "output_type": "display_data"
    }
   ],
   "source": [
    "bar_trace_via_constructor = graph_objs.Bar(x=['bobby', 'susan', 'eli', 'malcolm'], y=[3, 5, 7, 9])\n",
    "\n",
    "plotly.offline.iplot([bar_trace_via_constructor])"
   ]
  },
  {
   "cell_type": "code",
   "execution_count": 9,
   "metadata": {},
   "outputs": [
    {
     "data": {
      "text/plain": [
       "Scatter()"
      ]
     },
     "execution_count": 9,
     "metadata": {},
     "output_type": "execute_result"
    }
   ],
   "source": [
    "graph_objs.Scatter()"
   ]
  },
  {
   "cell_type": "code",
   "execution_count": 10,
   "metadata": {},
   "outputs": [
    {
     "data": {
      "text/plain": [
       "Pie()"
      ]
     },
     "execution_count": 10,
     "metadata": {},
     "output_type": "execute_result"
    }
   ],
   "source": [
    "graph_objs.Pie()"
   ]
  },
  {
   "cell_type": "code",
   "execution_count": 11,
   "metadata": {},
   "outputs": [
    {
     "data": {
      "application/vnd.plotly.v1+json": {
       "data": [
        {
         "labels": [
          "chocolate",
          "vanilla",
          "strawberry"
         ],
         "type": "pie",
         "uid": "0b360b48-aebe-11e8-8cd6-086d41e3715a",
         "values": [
          10,
          5,
          15
         ]
        }
       ],
       "layout": {}
      },
      "text/html": [
       "<div id=\"8563d02c-a2a2-47e3-861d-250251dc2d4f\" style=\"height: 525px; width: 100%;\" class=\"plotly-graph-div\"></div><script type=\"text/javascript\">require([\"plotly\"], function(Plotly) { window.PLOTLYENV=window.PLOTLYENV || {};window.PLOTLYENV.BASE_URL=\"https://plot.ly\";Plotly.newPlot(\"8563d02c-a2a2-47e3-861d-250251dc2d4f\", [{\"labels\": [\"chocolate\", \"vanilla\", \"strawberry\"], \"values\": [10, 5, 15], \"type\": \"pie\", \"uid\": \"0b3aa374-aebe-11e8-8c43-086d41e3715a\"}], {}, {\"showLink\": true, \"linkText\": \"Export to plot.ly\"})});</script>"
      ],
      "text/vnd.plotly.v1+html": [
       "<div id=\"8563d02c-a2a2-47e3-861d-250251dc2d4f\" style=\"height: 525px; width: 100%;\" class=\"plotly-graph-div\"></div><script type=\"text/javascript\">require([\"plotly\"], function(Plotly) { window.PLOTLYENV=window.PLOTLYENV || {};window.PLOTLYENV.BASE_URL=\"https://plot.ly\";Plotly.newPlot(\"8563d02c-a2a2-47e3-861d-250251dc2d4f\", [{\"labels\": [\"chocolate\", \"vanilla\", \"strawberry\"], \"values\": [10, 5, 15], \"type\": \"pie\", \"uid\": \"0b3aa374-aebe-11e8-8c43-086d41e3715a\"}], {}, {\"showLink\": true, \"linkText\": \"Export to plot.ly\"})});</script>"
      ]
     },
     "metadata": {},
     "output_type": "display_data"
    }
   ],
   "source": [
    "pie_trace = dict(type=\"pie\", labels=[\"chocolate\", \"vanilla\", \"strawberry\"], values=[10, 5, 15])\n",
    "\n",
    "plotly.offline.iplot([pie_trace])"
   ]
  },
  {
   "cell_type": "code",
   "execution_count": 12,
   "metadata": {},
   "outputs": [
    {
     "data": {
      "application/vnd.plotly.v1+json": {
       "data": [
        {
         "marker": {
          "color": "blue"
         },
         "name": "Our nice line",
         "type": "scatter",
         "uid": "0b4a6fca-aebe-11e8-9f3b-086d41e3715a",
         "x": [
          1.5,
          2.5,
          3.5,
          4.5
         ],
         "y": [
          3,
          5,
          7,
          9
         ]
        }
       ],
       "layout": {
        "title": "Scatter Plot"
       }
      },
      "text/html": [
       "<div id=\"4791bc3a-4552-4389-9d9c-9517458d264d\" style=\"height: 525px; width: 100%;\" class=\"plotly-graph-div\"></div><script type=\"text/javascript\">require([\"plotly\"], function(Plotly) { window.PLOTLYENV=window.PLOTLYENV || {};window.PLOTLYENV.BASE_URL=\"https://plot.ly\";Plotly.newPlot(\"4791bc3a-4552-4389-9d9c-9517458d264d\", [{\"marker\": {\"color\": \"blue\"}, \"name\": \"Our nice line\", \"x\": [1.5, 2.5, 3.5, 4.5], \"y\": [3, 5, 7, 9], \"type\": \"scatter\", \"uid\": \"0b4ecfde-aebe-11e8-95e9-086d41e3715a\"}], {\"title\": \"Scatter Plot\"}, {\"showLink\": true, \"linkText\": \"Export to plot.ly\"})});</script>"
      ],
      "text/vnd.plotly.v1+html": [
       "<div id=\"4791bc3a-4552-4389-9d9c-9517458d264d\" style=\"height: 525px; width: 100%;\" class=\"plotly-graph-div\"></div><script type=\"text/javascript\">require([\"plotly\"], function(Plotly) { window.PLOTLYENV=window.PLOTLYENV || {};window.PLOTLYENV.BASE_URL=\"https://plot.ly\";Plotly.newPlot(\"4791bc3a-4552-4389-9d9c-9517458d264d\", [{\"marker\": {\"color\": \"blue\"}, \"name\": \"Our nice line\", \"x\": [1.5, 2.5, 3.5, 4.5], \"y\": [3, 5, 7, 9], \"type\": \"scatter\", \"uid\": \"0b4ecfde-aebe-11e8-95e9-086d41e3715a\"}], {\"title\": \"Scatter Plot\"}, {\"showLink\": true, \"linkText\": \"Export to plot.ly\"})});</script>"
      ]
     },
     "metadata": {},
     "output_type": "display_data"
    }
   ],
   "source": [
    "layout = {'title': 'Scatter Plot'}\n",
    "trace_of_data = {'x': [1.5, 2.5, 3.5, 4.5], 'y': [3, 5, 7, 9], 'marker': {'color': 'blue'}, 'name': 'Our nice line'}\n",
    "\n",
    "figure = {'data': [trace_of_data], 'layout': layout}\n",
    "plotly.offline.iplot(figure)"
   ]
  },
  {
   "cell_type": "markdown",
   "metadata": {},
   "source": [
    "So above we used the layout to name our plot's title. Now that we have used layout to specify our chart's title, let's also use it to specify the range of our x axis and y axis. Previously, we were allowing Plotly to automatically set the range. We can also adjust the range to meet our specifications."
   ]
  },
  {
   "cell_type": "code",
   "execution_count": 13,
   "metadata": {},
   "outputs": [
    {
     "data": {
      "application/vnd.plotly.v1+json": {
       "data": [
        {
         "marker": {
          "color": "blue"
         },
         "name": "Our nice line",
         "type": "scatter",
         "uid": "0b57b0fe-aebe-11e8-92a4-086d41e3715a",
         "x": [
          1.5,
          2.5,
          3.5,
          4.5
         ],
         "y": [
          3,
          5,
          7,
          9
         ]
        }
       ],
       "layout": {
        "title": "Scatter Plot",
        "xaxis": {
         "range": [
          1,
          10
         ]
        },
        "yaxis": {
         "range": [
          1,
          10
         ]
        }
       }
      },
      "text/html": [
       "<div id=\"de0cd2ed-010a-42a5-86e6-19714c2a7946\" style=\"height: 525px; width: 100%;\" class=\"plotly-graph-div\"></div><script type=\"text/javascript\">require([\"plotly\"], function(Plotly) { window.PLOTLYENV=window.PLOTLYENV || {};window.PLOTLYENV.BASE_URL=\"https://plot.ly\";Plotly.newPlot(\"de0cd2ed-010a-42a5-86e6-19714c2a7946\", [{\"marker\": {\"color\": \"blue\"}, \"name\": \"Our nice line\", \"x\": [1.5, 2.5, 3.5, 4.5], \"y\": [3, 5, 7, 9], \"type\": \"scatter\", \"uid\": \"0b5dc840-aebe-11e8-a114-086d41e3715a\"}], {\"title\": \"Scatter Plot\", \"xaxis\": {\"range\": [1, 10]}, \"yaxis\": {\"range\": [1, 10]}}, {\"showLink\": true, \"linkText\": \"Export to plot.ly\"})});</script>"
      ],
      "text/vnd.plotly.v1+html": [
       "<div id=\"de0cd2ed-010a-42a5-86e6-19714c2a7946\" style=\"height: 525px; width: 100%;\" class=\"plotly-graph-div\"></div><script type=\"text/javascript\">require([\"plotly\"], function(Plotly) { window.PLOTLYENV=window.PLOTLYENV || {};window.PLOTLYENV.BASE_URL=\"https://plot.ly\";Plotly.newPlot(\"de0cd2ed-010a-42a5-86e6-19714c2a7946\", [{\"marker\": {\"color\": \"blue\"}, \"name\": \"Our nice line\", \"x\": [1.5, 2.5, 3.5, 4.5], \"y\": [3, 5, 7, 9], \"type\": \"scatter\", \"uid\": \"0b5dc840-aebe-11e8-a114-086d41e3715a\"}], {\"title\": \"Scatter Plot\", \"xaxis\": {\"range\": [1, 10]}, \"yaxis\": {\"range\": [1, 10]}}, {\"showLink\": true, \"linkText\": \"Export to plot.ly\"})});</script>"
      ]
     },
     "metadata": {},
     "output_type": "display_data"
    }
   ],
   "source": [
    "layout = {'title': 'Scatter Plot', 'xaxis': {'range': [1, 10]}, 'yaxis': {'range': [1, 10]}}\n",
    "trace_of_data = {'x': [1.5, 2.5, 3.5, 4.5], 'y': [3, 5, 7, 9], 'marker': {'color': 'blue'}, 'name': 'Our nice line'}\n",
    "\n",
    "figure = {'data': [trace_of_data], 'layout': layout}\n",
    "\n",
    "plotly.offline.iplot(figure)"
   ]
  },
  {
   "cell_type": "markdown",
   "metadata": {},
   "source": [
    "# Nearest Neighbor Lab"
   ]
  },
  {
   "cell_type": "markdown",
   "metadata": {},
   "source": [
    "### Introduction"
   ]
  },
  {
   "cell_type": "markdown",
   "metadata": {},
   "source": [
    "In this lab we will build out functions to help us plot visualizations in lessons going forward. "
   ]
  },
  {
   "cell_type": "markdown",
   "metadata": {},
   "source": [
    "### The Setup"
   ]
  },
  {
   "cell_type": "markdown",
   "metadata": {},
   "source": [
    "Let's start by providing a function called `plot` which plots our data."
   ]
  },
  {
   "cell_type": "code",
   "execution_count": 14,
   "metadata": {},
   "outputs": [
    {
     "data": {
      "text/html": [
       "<script>requirejs.config({paths: { 'plotly': ['https://cdn.plot.ly/plotly-latest.min']},});if(!window.Plotly) {{require(['plotly'],function(plotly) {window.Plotly=plotly;});}}</script>"
      ],
      "text/vnd.plotly.v1+html": [
       "<script>requirejs.config({paths: { 'plotly': ['https://cdn.plot.ly/plotly-latest.min']},});if(!window.Plotly) {{require(['plotly'],function(plotly) {window.Plotly=plotly;});}}</script>"
      ]
     },
     "metadata": {},
     "output_type": "display_data"
    }
   ],
   "source": [
    "import plotly\n",
    "from plotly.offline import iplot, init_notebook_mode\n",
    "\n",
    "init_notebook_mode(connected=True)\n",
    "\n",
    "def plot(figure):\n",
    "    plotly.offline.iplot(figure)"
   ]
  },
  {
   "cell_type": "markdown",
   "metadata": {},
   "source": [
    "To see our plot on the screen, we provide our `plot` function a dictionary.  The dictionary has a key of `data` which points to a list of traces.  Let's see it!"
   ]
  },
  {
   "cell_type": "code",
   "execution_count": 26,
   "metadata": {
    "scrolled": false
   },
   "outputs": [
    {
     "data": {
      "application/vnd.plotly.v1+json": {
       "data": [
        {
         "type": "scatter",
         "uid": "d0c30cd8-af53-11e8-b5e0-086d41e3715a",
         "x": [
          1,
          2,
          3
         ],
         "y": [
          2,
          3,
          4
         ]
        },
        {
         "type": "scatter",
         "uid": "d0c30eb6-af53-11e8-b9c2-086d41e3715a",
         "x": [
          2,
          3,
          4
         ],
         "y": [
          5,
          3,
          4
         ]
        }
       ],
       "layout": {
        "title": "Our sample plot"
       }
      },
      "text/html": [
       "<div id=\"8829a0d0-939e-4aef-a75c-7131a568b039\" style=\"height: 525px; width: 100%;\" class=\"plotly-graph-div\"></div><script type=\"text/javascript\">require([\"plotly\"], function(Plotly) { window.PLOTLYENV=window.PLOTLYENV || {};window.PLOTLYENV.BASE_URL=\"https://plot.ly\";Plotly.newPlot(\"8829a0d0-939e-4aef-a75c-7131a568b039\", [{\"x\": [1, 2, 3], \"y\": [2, 3, 4], \"type\": \"scatter\", \"uid\": \"d0c8fa74-af53-11e8-8352-086d41e3715a\"}, {\"x\": [2, 3, 4], \"y\": [5, 3, 4], \"type\": \"scatter\", \"uid\": \"d0c8fc18-af53-11e8-bd8a-086d41e3715a\"}], {\"title\": \"Our sample plot\"}, {\"showLink\": true, \"linkText\": \"Export to plot.ly\"})});</script>"
      ],
      "text/vnd.plotly.v1+html": [
       "<div id=\"8829a0d0-939e-4aef-a75c-7131a568b039\" style=\"height: 525px; width: 100%;\" class=\"plotly-graph-div\"></div><script type=\"text/javascript\">require([\"plotly\"], function(Plotly) { window.PLOTLYENV=window.PLOTLYENV || {};window.PLOTLYENV.BASE_URL=\"https://plot.ly\";Plotly.newPlot(\"8829a0d0-939e-4aef-a75c-7131a568b039\", [{\"x\": [1, 2, 3], \"y\": [2, 3, 4], \"type\": \"scatter\", \"uid\": \"d0c8fa74-af53-11e8-8352-086d41e3715a\"}, {\"x\": [2, 3, 4], \"y\": [5, 3, 4], \"type\": \"scatter\", \"uid\": \"d0c8fc18-af53-11e8-bd8a-086d41e3715a\"}], {\"title\": \"Our sample plot\"}, {\"showLink\": true, \"linkText\": \"Export to plot.ly\"})});</script>"
      ]
     },
     "metadata": {},
     "output_type": "display_data"
    }
   ],
   "source": [
    "sample_trace = {'x': [1, 2, 3], 'y': [2, 3, 4]}\n",
    "other_sample_trace = {'x': [2, 3, 4], 'y': [5, 3, 4]}\n",
    "sample_figure = {'data': [sample_trace, other_sample_trace], 'layout': {'title': 'Our sample plot'}}\n",
    "plot(sample_figure)"
   ]
  },
  {
   "cell_type": "markdown",
   "metadata": {},
   "source": [
    "Ok, now that our `plot` function works, we need an easy way to create the following:  \n",
    "\n",
    "* traces\n",
    "* figures\n",
    "* layouts\n",
    "\n",
    "\n",
    "Let's take these one by one.  We'll start with a `build_trace` function that easily creates traces."
   ]
  },
  {
   "cell_type": "markdown",
   "metadata": {},
   "source": [
    "### A function to create traces"
   ]
  },
  {
   "cell_type": "markdown",
   "metadata": {},
   "source": [
    "#### build_trace"
   ]
  },
  {
   "cell_type": "markdown",
   "metadata": {},
   "source": [
    "Write a `build_trace` function that can take in data that comes in the following format: "
   ]
  },
  {
   "cell_type": "code",
   "execution_count": 27,
   "metadata": {},
   "outputs": [],
   "source": [
    "data = [{'x': 1, 'y': 1}, {'x': 3, 'y': 2}, {'x': 2, 'y': 5}]"
   ]
  },
  {
   "cell_type": "markdown",
   "metadata": {},
   "source": [
    "And returns data like the commented out dictionary below: \n",
    "\n",
    "```python\n",
    "data = [{'x': 1, 'y': 1}, {'x': 3, 'y': 2}, {'x': 2, 'y': 5}]\n",
    "build_trace(data)\n",
    "# {'mode': 'markers', 'name': 'data', 'x': [1, 3, 2], 'y': [1, 2, 5]}\n",
    "```\n",
    "\n",
    "So `build_trace` that takes in a list of data points as arguments and returns a dictionary with a key of `x` that points to a list of x values, and a key of `y` that points to a list of y values.\n",
    "\n",
    ">**Note:** Look at the parameters provided for `build_trace`.  The arguments `mode = 'markers'` and `name = 'data'` may seem scary since we haven't seem them before.  No need to worry!  These are **default arguments**.  \n",
    "\n",
    ">If no argument for `mode` or `name` is provided when we call the `build_trace` function, Python will automatically set these parameters to the value provided, which, in this case would be 'markers' for the mode and 'data' for the name."
   ]
  },
  {
   "cell_type": "code",
   "execution_count": 16,
   "metadata": {},
   "outputs": [],
   "source": [
    "def build_trace(data, mode = 'markers', name = 'data'):\n",
    "    x_values = list(map(lambda datapoint: datapoint['x'], data))\n",
    "    y_values = list(map(lambda datapoint: datapoint['y'], data))\n",
    "    return {'x': x_values, 'y': y_values, 'mode': mode, 'name': name}"
   ]
  },
  {
   "cell_type": "markdown",
   "metadata": {},
   "source": [
    "So by default, if we just call `build_trace(data)` without specifying either a mode or a name, the function will automatically set these parameters to 'markers' and 'data' respectively."
   ]
  },
  {
   "cell_type": "code",
   "execution_count": 17,
   "metadata": {},
   "outputs": [
    {
     "data": {
      "text/plain": [
       "{'x': [1, 3, 2], 'y': [1, 2, 5], 'mode': 'markers', 'name': 'data'}"
      ]
     },
     "execution_count": 17,
     "metadata": {},
     "output_type": "execute_result"
    }
   ],
   "source": [
    "data = [{'x': 1, 'y': 1}, {'x': 3, 'y': 2}, {'x': 2, 'y': 5}]\n",
    "build_trace(data)\n",
    "# {'mode': 'markers', 'name': 'data', 'x': [1, 3, 2], 'y': [1, 2, 5]}"
   ]
  },
  {
   "cell_type": "markdown",
   "metadata": {},
   "source": [
    "If we want our `build_trace` function to take a different mode arguement, we add a second argument when we call the function which will overwrite the mode's default argument.   "
   ]
  },
  {
   "cell_type": "code",
   "execution_count": 18,
   "metadata": {},
   "outputs": [
    {
     "data": {
      "text/plain": [
       "{'x': [1, 3, 2], 'y': [1, 2, 5], 'mode': 'scatter', 'name': 'data'}"
      ]
     },
     "execution_count": 18,
     "metadata": {},
     "output_type": "execute_result"
    }
   ],
   "source": [
    "build_trace(data, 'scatter')\n",
    "# {'mode': 'scatter', 'name': 'data', 'x': [1, 3, 2], 'y': [1, 2, 5]}"
   ]
  },
  {
   "cell_type": "markdown",
   "metadata": {},
   "source": [
    "We could do the same thing with the name of the plot.  This is useful for when we have more than one trace in the same plot.\n",
    "\n",
    "> Order matters.  The value passed through as the `name` argument, should correspond to the value of the `name` key in our returned dictionary."
   ]
  },
  {
   "cell_type": "code",
   "execution_count": 19,
   "metadata": {},
   "outputs": [
    {
     "data": {
      "text/plain": [
       "{'x': [1, 3, 2], 'y': [1, 2, 5], 'mode': 'markers', 'name': 'sample plot'}"
      ]
     },
     "execution_count": 19,
     "metadata": {},
     "output_type": "execute_result"
    }
   ],
   "source": [
    "build_trace(data, 'markers', 'sample plot')\n",
    "# {'mode': 'markers', 'name': 'sample plot', 'x': [1, 3, 2], 'y': [1, 2, 5]}"
   ]
  },
  {
   "cell_type": "markdown",
   "metadata": {},
   "source": [
    "Ok, now we have built a function to easily generate a trace.  Let's see it in action!  Uncomment some of the code below and try it out. Experiment with having your trace display with 'markers' or 'lines'.  You can only see the name of the plot if more than one trace is present, so practice adding more than one trace, to the plot."
   ]
  },
  {
   "cell_type": "code",
   "execution_count": 28,
   "metadata": {},
   "outputs": [
    {
     "data": {
      "application/vnd.plotly.v1+json": {
       "data": [
        {
         "mode": "markers",
         "name": "data",
         "type": "scatter",
         "uid": "2391c36c-af54-11e8-9340-086d41e3715a",
         "x": [
          1,
          3,
          2
         ],
         "y": [
          1,
          2,
          5
         ]
        },
        {
         "mode": "lines",
         "name": "my_trace",
         "type": "scatter",
         "uid": "2391c68c-af54-11e8-b1ca-086d41e3715a",
         "x": [
          1,
          3,
          2
         ],
         "y": [
          1,
          2,
          5
         ]
        }
       ],
       "layout": {}
      },
      "text/html": [
       "<div id=\"2488574a-3ba3-4b4d-8be0-ebabdf281d14\" style=\"height: 525px; width: 100%;\" class=\"plotly-graph-div\"></div><script type=\"text/javascript\">require([\"plotly\"], function(Plotly) { window.PLOTLYENV=window.PLOTLYENV || {};window.PLOTLYENV.BASE_URL=\"https://plot.ly\";Plotly.newPlot(\"2488574a-3ba3-4b4d-8be0-ebabdf281d14\", [{\"mode\": \"markers\", \"name\": \"data\", \"x\": [1, 3, 2], \"y\": [1, 2, 5], \"type\": \"scatter\", \"uid\": \"23983bc0-af54-11e8-be69-086d41e3715a\"}, {\"mode\": \"lines\", \"name\": \"my_trace\", \"x\": [1, 3, 2], \"y\": [1, 2, 5], \"type\": \"scatter\", \"uid\": \"23983d6e-af54-11e8-9dc8-086d41e3715a\"}], {}, {\"showLink\": true, \"linkText\": \"Export to plot.ly\"})});</script>"
      ],
      "text/vnd.plotly.v1+html": [
       "<div id=\"2488574a-3ba3-4b4d-8be0-ebabdf281d14\" style=\"height: 525px; width: 100%;\" class=\"plotly-graph-div\"></div><script type=\"text/javascript\">require([\"plotly\"], function(Plotly) { window.PLOTLYENV=window.PLOTLYENV || {};window.PLOTLYENV.BASE_URL=\"https://plot.ly\";Plotly.newPlot(\"2488574a-3ba3-4b4d-8be0-ebabdf281d14\", [{\"mode\": \"markers\", \"name\": \"data\", \"x\": [1, 3, 2], \"y\": [1, 2, 5], \"type\": \"scatter\", \"uid\": \"23983bc0-af54-11e8-be69-086d41e3715a\"}, {\"mode\": \"lines\", \"name\": \"my_trace\", \"x\": [1, 3, 2], \"y\": [1, 2, 5], \"type\": \"scatter\", \"uid\": \"23983d6e-af54-11e8-9dc8-086d41e3715a\"}], {}, {\"showLink\": true, \"linkText\": \"Export to plot.ly\"})});</script>"
      ]
     },
     "metadata": {},
     "output_type": "display_data"
    }
   ],
   "source": [
    "trace0 = build_trace(data)\n",
    "\n",
    "trace0 = build_trace(data, 'markers')\n",
    "trace1 = build_trace(data, 'lines', 'my_trace')\n",
    "plot({'data':[trace0, trace1]})"
   ]
  },
  {
   "cell_type": "markdown",
   "metadata": {},
   "source": [
    "#### trace_values"
   ]
  },
  {
   "cell_type": "markdown",
   "metadata": {},
   "source": [
    "Now let's write another function to create a trace called `trace_values`.  It works just like our `build_trace` function, except that it takes in a list of x_values and a list of y_values and returns our trace dictionary.  We will use default argument again here in the same manner as before."
   ]
  },
  {
   "cell_type": "code",
   "execution_count": 21,
   "metadata": {},
   "outputs": [],
   "source": [
    "def trace_values(x_values, y_values, mode = 'markers', name=\"data\"):\n",
    "    #x_values = list(map(lambda datapoint: datapoint['x'], data))\n",
    "    #y_values = list(map(lambda datapoint: datapoint['y'], data))\n",
    "    return {'x': x_values, 'y': y_values, 'mode': mode, 'name': name}"
   ]
  },
  {
   "cell_type": "code",
   "execution_count": 29,
   "metadata": {},
   "outputs": [
    {
     "data": {
      "text/plain": [
       "{'x': [1, 2, 3], 'y': [2, 4, 5], 'mode': 'markers', 'name': 'data'}"
      ]
     },
     "execution_count": 29,
     "metadata": {},
     "output_type": "execute_result"
    }
   ],
   "source": [
    "trace_values([1, 2, 3], [2, 4, 5])\n",
    "\n",
    "# {'mode': 'markers', 'name': 'data', 'x': [1, 2, 3], 'y': [2, 4, 5]}"
   ]
  },
  {
   "cell_type": "markdown",
   "metadata": {},
   "source": [
    "Now let's try to build a line trace with our newly defined `trace_values` function.  We will set `mode` to 'line' and the `name` of our trace to 'line trace'."
   ]
  },
  {
   "cell_type": "code",
   "execution_count": 30,
   "metadata": {},
   "outputs": [
    {
     "data": {
      "text/plain": [
       "{'x': [1, 2, 3], 'y': [2, 4, 5], 'mode': 'line', 'name': 'line trace'}"
      ]
     },
     "execution_count": 30,
     "metadata": {},
     "output_type": "execute_result"
    }
   ],
   "source": [
    "trace_values([1, 2, 3], [2, 4, 5], 'line', 'line trace')\n",
    "# {'mode': 'line', 'name': 'line trace', 'x': [1, 2, 3], 'y': [2, 4, 5]}"
   ]
  },
  {
   "cell_type": "markdown",
   "metadata": {},
   "source": [
    "From there, we can use our `trace_values` function to plot our chart."
   ]
  },
  {
   "cell_type": "code",
   "execution_count": 25,
   "metadata": {},
   "outputs": [
    {
     "data": {
      "application/vnd.plotly.v1+json": {
       "data": [
        {
         "mode": "markers",
         "name": "line trace",
         "type": "scatter",
         "uid": "f5fc872c-af51-11e8-b373-086d41e3715a",
         "x": [
          1,
          2,
          3
         ],
         "y": [
          2,
          4,
          5
         ]
        }
       ],
       "layout": {}
      },
      "text/html": [
       "<div id=\"77f157cc-b723-4733-81a8-6a1999308427\" style=\"height: 525px; width: 100%;\" class=\"plotly-graph-div\"></div><script type=\"text/javascript\">require([\"plotly\"], function(Plotly) { window.PLOTLYENV=window.PLOTLYENV || {};window.PLOTLYENV.BASE_URL=\"https://plot.ly\";Plotly.newPlot(\"77f157cc-b723-4733-81a8-6a1999308427\", [{\"mode\": \"markers\", \"name\": \"line trace\", \"x\": [1, 2, 3], \"y\": [2, 4, 5], \"type\": \"scatter\", \"uid\": \"f6020814-af51-11e8-bf84-086d41e3715a\"}], {}, {\"showLink\": true, \"linkText\": \"Export to plot.ly\"})});</script>"
      ],
      "text/vnd.plotly.v1+html": [
       "<div id=\"77f157cc-b723-4733-81a8-6a1999308427\" style=\"height: 525px; width: 100%;\" class=\"plotly-graph-div\"></div><script type=\"text/javascript\">require([\"plotly\"], function(Plotly) { window.PLOTLYENV=window.PLOTLYENV || {};window.PLOTLYENV.BASE_URL=\"https://plot.ly\";Plotly.newPlot(\"77f157cc-b723-4733-81a8-6a1999308427\", [{\"mode\": \"markers\", \"name\": \"line trace\", \"x\": [1, 2, 3], \"y\": [2, 4, 5], \"type\": \"scatter\", \"uid\": \"f6020814-af51-11e8-bf84-086d41e3715a\"}], {}, {\"showLink\": true, \"linkText\": \"Export to plot.ly\"})});</script>"
      ]
     },
     "metadata": {},
     "output_type": "display_data"
    }
   ],
   "source": [
    "trace2 = trace_values([1, 2, 3], [2, 4, 5], mode='markers', name='line trace')\n",
    "# trace2 = trace_values([1, 2, 3], [2, 4, 5], mode='line', name='line trace') doesn't work\n",
    "plot({'data': [trace2]})"
   ]
  },
  {
   "cell_type": "markdown",
   "metadata": {},
   "source": [
    "### Creating layouts"
   ]
  },
  {
   "cell_type": "markdown",
   "metadata": {},
   "source": [
    "Ok, now that we have built some functions to create traces, let's write a function to create a layout.  Remember that our layout also can be passed to our plot function."
   ]
  },
  {
   "cell_type": "code",
   "execution_count": 31,
   "metadata": {},
   "outputs": [
    {
     "data": {
      "application/vnd.plotly.v1+json": {
       "data": [
        {
         "mode": "markers",
         "name": "data",
         "type": "scatter",
         "uid": "7977bb4c-af54-11e8-9f39-086d41e3715a",
         "x": [
          1,
          3,
          2
         ],
         "y": [
          1,
          2,
          5
         ]
        },
        {
         "mode": "markers",
         "name": "line trace",
         "type": "scatter",
         "uid": "7977bd2c-af54-11e8-b058-086d41e3715a",
         "x": [
          1,
          2,
          3
         ],
         "y": [
          2,
          4,
          5
         ]
        }
       ],
       "layout": {
        "title": "Sample Title"
       }
      },
      "text/html": [
       "<div id=\"ad7d7075-cd1e-451c-8363-89a5a4fb205e\" style=\"height: 525px; width: 100%;\" class=\"plotly-graph-div\"></div><script type=\"text/javascript\">require([\"plotly\"], function(Plotly) { window.PLOTLYENV=window.PLOTLYENV || {};window.PLOTLYENV.BASE_URL=\"https://plot.ly\";Plotly.newPlot(\"ad7d7075-cd1e-451c-8363-89a5a4fb205e\", [{\"mode\": \"markers\", \"name\": \"data\", \"x\": [1, 3, 2], \"y\": [1, 2, 5], \"type\": \"scatter\", \"uid\": \"797f10e2-af54-11e8-ac79-086d41e3715a\"}, {\"mode\": \"markers\", \"name\": \"line trace\", \"x\": [1, 2, 3], \"y\": [2, 4, 5], \"type\": \"scatter\", \"uid\": \"797f12f4-af54-11e8-a658-086d41e3715a\"}], {\"title\": \"Sample Title\"}, {\"showLink\": true, \"linkText\": \"Export to plot.ly\"})});</script>"
      ],
      "text/vnd.plotly.v1+html": [
       "<div id=\"ad7d7075-cd1e-451c-8363-89a5a4fb205e\" style=\"height: 525px; width: 100%;\" class=\"plotly-graph-div\"></div><script type=\"text/javascript\">require([\"plotly\"], function(Plotly) { window.PLOTLYENV=window.PLOTLYENV || {};window.PLOTLYENV.BASE_URL=\"https://plot.ly\";Plotly.newPlot(\"ad7d7075-cd1e-451c-8363-89a5a4fb205e\", [{\"mode\": \"markers\", \"name\": \"data\", \"x\": [1, 3, 2], \"y\": [1, 2, 5], \"type\": \"scatter\", \"uid\": \"797f10e2-af54-11e8-ac79-086d41e3715a\"}, {\"mode\": \"markers\", \"name\": \"line trace\", \"x\": [1, 2, 3], \"y\": [2, 4, 5], \"type\": \"scatter\", \"uid\": \"797f12f4-af54-11e8-a658-086d41e3715a\"}], {\"title\": \"Sample Title\"}, {\"showLink\": true, \"linkText\": \"Export to plot.ly\"})});</script>"
      ]
     },
     "metadata": {},
     "output_type": "display_data"
    }
   ],
   "source": [
    "plot({'data': [trace0, trace2], 'layout': {'title': 'Sample Title'}})"
   ]
  },
  {
   "cell_type": "markdown",
   "metadata": {},
   "source": [
    "Our `layout` function should return a dictionary, just as it's defined in the above plot.  We'll start by returning an empty dictionary then below we'll walk through building out the rest of the function."
   ]
  },
  {
   "cell_type": "code",
   "execution_count": 32,
   "metadata": {},
   "outputs": [],
   "source": [
    "def layout(x_range = None, y_range = None, options = {}):\n",
    "    layout = {}\n",
    "    if isinstance(x_range, list):\n",
    "        layout.update({'xaxis': {'range': x_range}})\n",
    "    if isinstance(y_range, list):\n",
    "        layout.update({'yaxis': {'range': y_range}})\n",
    "    layout.update(options)\n",
    "    return layout"
   ]
  },
  {
   "cell_type": "code",
   "execution_count": 33,
   "metadata": {},
   "outputs": [
    {
     "data": {
      "text/plain": [
       "{}"
      ]
     },
     "execution_count": 33,
     "metadata": {},
     "output_type": "execute_result"
    }
   ],
   "source": [
    "layout()\n",
    "# {}"
   ]
  },
  {
   "cell_type": "markdown",
   "metadata": {},
   "source": [
    "#### Setting the xaxis and yaxis range"
   ]
  },
  {
   "cell_type": "markdown",
   "metadata": {},
   "source": [
    "Oftentimes in building a layout, we want an easy way to set the range for the `x` and `y` axis.  To set a range in the x-axis of $1$ through $4$ and a range of the y-axis of $2$ through $5$, we return a layout of the following structure.\n",
    "```python\n",
    "{'xaxis': {'range': [1, 4]}, 'yaxis': {'range': [2, 5]}}\n",
    "```\n",
    "\n",
    "Let's start with adding functionality to the `layout()` function so it can set the range for the x-axis.  (**Hint**: Google search Python's built-in `isinstance()` and `update()` functions.)\n",
    "\n",
    "Add an argument of x_range returns a dictionary with a range set on the xaxis."
   ]
  },
  {
   "cell_type": "code",
   "execution_count": 34,
   "metadata": {},
   "outputs": [
    {
     "data": {
      "text/plain": [
       "{'xaxis': {'range': [1, 4]}}"
      ]
     },
     "execution_count": 34,
     "metadata": {},
     "output_type": "execute_result"
    }
   ],
   "source": [
    "layout([1, 4])\n",
    "# {'xaxis': {'range': [1, 4]}}"
   ]
  },
  {
   "cell_type": "markdown",
   "metadata": {},
   "source": [
    "We want to ensure that when an x_range is not provided, an empty dictionary is still returned.  \n",
    "```python\n",
    "layout()\n",
    "# {}\n",
    "\n",
    "```\n",
    "The `x_range` should be a default argument that sets `x_range` to `None`.  Then, only add a key of xaxis to the dictionary layout when the `x_range` does not equal `None`."
   ]
  },
  {
   "cell_type": "code",
   "execution_count": 35,
   "metadata": {},
   "outputs": [
    {
     "data": {
      "text/plain": [
       "{}"
      ]
     },
     "execution_count": 35,
     "metadata": {},
     "output_type": "execute_result"
    }
   ],
   "source": [
    "layout() # {}"
   ]
  },
  {
   "cell_type": "markdown",
   "metadata": {},
   "source": [
    "Now let's provide the same functionality for the `y_range`.  When the `y_range` is provided we add a key of `yaxis` which points to a dictionary that expresses the y-axis range."
   ]
  },
  {
   "cell_type": "code",
   "execution_count": 36,
   "metadata": {},
   "outputs": [
    {
     "data": {
      "text/plain": [
       "{'xaxis': {'range': [1, 3]}, 'yaxis': {'range': [4, 5]}}"
      ]
     },
     "execution_count": 36,
     "metadata": {},
     "output_type": "execute_result"
    }
   ],
   "source": [
    "layout([1, 3], [4, 5])\n",
    "# {'xaxis': {'range': [1, 3]}, 'yaxis': {'range': [4, 5]}}"
   ]
  },
  {
   "cell_type": "markdown",
   "metadata": {},
   "source": [
    "#### Adding layout options"
   ]
  },
  {
   "cell_type": "markdown",
   "metadata": {},
   "source": [
    "Now have the final argument of our layout function be options.  The `options` argument should by default point to a dictionary.  And whatever is provided as pointing to the options argument should be updated into the returned dictionary.  "
   ]
  },
  {
   "cell_type": "code",
   "execution_count": 37,
   "metadata": {},
   "outputs": [
    {
     "data": {
      "text/plain": [
       "{'title': 'foo'}"
      ]
     },
     "execution_count": 37,
     "metadata": {},
     "output_type": "execute_result"
    }
   ],
   "source": [
    "layout(options = {'title': 'foo'})"
   ]
  },
  {
   "cell_type": "code",
   "execution_count": 38,
   "metadata": {},
   "outputs": [
    {
     "data": {
      "text/plain": [
       "{'xaxis': {'range': [1, 3]}, 'title': 'chart'}"
      ]
     },
     "execution_count": 38,
     "metadata": {},
     "output_type": "execute_result"
    }
   ],
   "source": [
    "layout([1, 3], options = {'title': 'chart'})\n",
    "\n",
    "# {'title': 'chart', 'xaxis': {'range': [1, 3]}}"
   ]
  },
  {
   "cell_type": "markdown",
   "metadata": {},
   "source": [
    "Ok, now let's see this `layout` function in action."
   ]
  },
  {
   "cell_type": "code",
   "execution_count": 39,
   "metadata": {},
   "outputs": [
    {
     "data": {
      "application/vnd.plotly.v1+json": {
       "data": [
        {
         "mode": "markers",
         "name": "data",
         "type": "scatter",
         "uid": "bd5644c8-af54-11e8-8471-086d41e3715a",
         "x": [
          1,
          2,
          3
         ],
         "y": [
          6,
          3,
          1
         ]
        }
       ],
       "layout": {
        "title": "Going Down...",
        "xaxis": {
         "range": [
          -1,
          4
         ]
        },
        "yaxis": {
         "range": [
          0,
          7
         ]
        }
       }
      },
      "text/html": [
       "<div id=\"775667a8-cc62-41ca-82f4-a6f4ec3af84c\" style=\"height: 525px; width: 100%;\" class=\"plotly-graph-div\"></div><script type=\"text/javascript\">require([\"plotly\"], function(Plotly) { window.PLOTLYENV=window.PLOTLYENV || {};window.PLOTLYENV.BASE_URL=\"https://plot.ly\";Plotly.newPlot(\"775667a8-cc62-41ca-82f4-a6f4ec3af84c\", [{\"mode\": \"markers\", \"name\": \"data\", \"x\": [1, 2, 3], \"y\": [6, 3, 1], \"type\": \"scatter\", \"uid\": \"bd5af090-af54-11e8-b0d7-086d41e3715a\"}], {\"title\": \"Going Down...\", \"xaxis\": {\"range\": [-1, 4]}, \"yaxis\": {\"range\": [0, 7]}}, {\"showLink\": true, \"linkText\": \"Export to plot.ly\"})});</script>"
      ],
      "text/vnd.plotly.v1+html": [
       "<div id=\"775667a8-cc62-41ca-82f4-a6f4ec3af84c\" style=\"height: 525px; width: 100%;\" class=\"plotly-graph-div\"></div><script type=\"text/javascript\">require([\"plotly\"], function(Plotly) { window.PLOTLYENV=window.PLOTLYENV || {};window.PLOTLYENV.BASE_URL=\"https://plot.ly\";Plotly.newPlot(\"775667a8-cc62-41ca-82f4-a6f4ec3af84c\", [{\"mode\": \"markers\", \"name\": \"data\", \"x\": [1, 2, 3], \"y\": [6, 3, 1], \"type\": \"scatter\", \"uid\": \"bd5af090-af54-11e8-b0d7-086d41e3715a\"}], {\"title\": \"Going Down...\", \"xaxis\": {\"range\": [-1, 4]}, \"yaxis\": {\"range\": [0, 7]}}, {\"showLink\": true, \"linkText\": \"Export to plot.ly\"})});</script>"
      ]
     },
     "metadata": {},
     "output_type": "display_data"
    }
   ],
   "source": [
    "another_trace = trace_values([1, 2, 3], [6, 3, 1])\n",
    "another_layout = layout([-1, 4], [0, 7], {'title': 'Going Down...'})\n",
    "plot({'data': [another_trace], 'layout': another_layout})"
   ]
  },
  {
   "cell_type": "markdown",
   "metadata": {},
   "source": [
    "Finally, we'll modify the `plot` function for you so that it takes the data, and the layout as arguments."
   ]
  },
  {
   "cell_type": "code",
   "execution_count": 40,
   "metadata": {},
   "outputs": [],
   "source": [
    "def plot(traces = [], layout = {}):\n",
    "    if not isinstance(traces, list): raise TypeError('first argument must be a list.  Instead is', traces)\n",
    "    if not isinstance(layout, dict): raise TypeError('second argument must be a dict.  Instead is', layout)\n",
    "    plotly.offline.iplot({'data': traces, 'layout': layout})"
   ]
  },
  {
   "cell_type": "code",
   "execution_count": 41,
   "metadata": {},
   "outputs": [
    {
     "data": {
      "application/vnd.plotly.v1+json": {
       "data": [
        {
         "mode": "lines",
         "name": "data",
         "type": "scatter",
         "uid": "c94913d2-af54-11e8-b5e2-086d41e3715a",
         "x": [
          4,
          5,
          6
         ],
         "y": [
          10,
          5,
          1
         ]
        }
       ],
       "layout": {
        "title": "The big picture"
       }
      },
      "text/html": [
       "<div id=\"b2d7de29-75d5-4d6d-8325-486fd55a7ed8\" style=\"height: 525px; width: 100%;\" class=\"plotly-graph-div\"></div><script type=\"text/javascript\">require([\"plotly\"], function(Plotly) { window.PLOTLYENV=window.PLOTLYENV || {};window.PLOTLYENV.BASE_URL=\"https://plot.ly\";Plotly.newPlot(\"b2d7de29-75d5-4d6d-8325-486fd55a7ed8\", [{\"mode\": \"lines\", \"name\": \"data\", \"x\": [4, 5, 6], \"y\": [10, 5, 1], \"type\": \"scatter\", \"uid\": \"c94e04e6-af54-11e8-b6ce-086d41e3715a\"}], {\"title\": \"The big picture\"}, {\"showLink\": true, \"linkText\": \"Export to plot.ly\"})});</script>"
      ],
      "text/vnd.plotly.v1+html": [
       "<div id=\"b2d7de29-75d5-4d6d-8325-486fd55a7ed8\" style=\"height: 525px; width: 100%;\" class=\"plotly-graph-div\"></div><script type=\"text/javascript\">require([\"plotly\"], function(Plotly) { window.PLOTLYENV=window.PLOTLYENV || {};window.PLOTLYENV.BASE_URL=\"https://plot.ly\";Plotly.newPlot(\"b2d7de29-75d5-4d6d-8325-486fd55a7ed8\", [{\"mode\": \"lines\", \"name\": \"data\", \"x\": [4, 5, 6], \"y\": [10, 5, 1], \"type\": \"scatter\", \"uid\": \"c94e04e6-af54-11e8-b6ce-086d41e3715a\"}], {\"title\": \"The big picture\"}, {\"showLink\": true, \"linkText\": \"Export to plot.ly\"})});</script>"
      ]
     },
     "metadata": {},
     "output_type": "display_data"
    }
   ],
   "source": [
    "trace4 = trace_values([4, 5, 6], [10, 5, 1], mode = 'lines')\n",
    "last_layout = layout(options = {'title': 'The big picture'})\n",
    "plot([trace4], last_layout)"
   ]
  },
  {
   "cell_type": "markdown",
   "metadata": {},
   "source": [
    "### Summary "
   ]
  },
  {
   "cell_type": "markdown",
   "metadata": {},
   "source": [
    "In this lab, we built out some methods so that we can easily create graphs going forward.  We'll make good use of them in the lessons to come, as well as write new methods to help us easily display information in our charts."
   ]
  },
  {
   "cell_type": "code",
   "execution_count": null,
   "metadata": {},
   "outputs": [],
   "source": []
  }
 ],
 "metadata": {
  "kernelspec": {
   "display_name": "Python 3",
   "language": "python",
   "name": "python3"
  },
  "language_info": {
   "codemirror_mode": {
    "name": "ipython",
    "version": 3
   },
   "file_extension": ".py",
   "mimetype": "text/x-python",
   "name": "python",
   "nbconvert_exporter": "python",
   "pygments_lexer": "ipython3",
   "version": "3.6.5"
  }
 },
 "nbformat": 4,
 "nbformat_minor": 2
}
